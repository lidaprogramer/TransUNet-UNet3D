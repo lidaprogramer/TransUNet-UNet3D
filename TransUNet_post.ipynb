{
  "cells": [
    {
      "cell_type": "markdown",
      "metadata": {
        "id": "view-in-github",
        "colab_type": "text"
      },
      "source": [
        "<a href=\"https://colab.research.google.com/github/lidaprogramer/TransUNet-UNet3D/blob/main/TransUNet_post.ipynb\" target=\"_parent\"><img src=\"https://colab.research.google.com/assets/colab-badge.svg\" alt=\"Open In Colab\"/></a>"
      ]
    },
    {
      "cell_type": "code",
      "execution_count": 1,
      "metadata": {
        "colab": {
          "base_uri": "https://localhost:8080/"
        },
        "id": "tkd5TFKxg5l2",
        "outputId": "bfae7430-fdf7-4bf5-8253-8bff6704c532"
      },
      "outputs": [
        {
          "output_type": "stream",
          "name": "stdout",
          "text": [
            "Drive already mounted at /content/drive/; to attempt to forcibly remount, call drive.mount(\"/content/drive/\", force_remount=True).\n"
          ]
        }
      ],
      "source": [
        "from google.colab import drive\n",
        "drive.mount('/content/drive/')"
      ]
    },
    {
      "cell_type": "code",
      "execution_count": 2,
      "metadata": {
        "colab": {
          "base_uri": "https://localhost:8080/"
        },
        "id": "iiAyxm2chRN-",
        "outputId": "d8580848-b23e-4b30-abae-2ebec20c880a"
      },
      "outputs": [
        {
          "output_type": "stream",
          "name": "stdout",
          "text": [
            "Drive already mounted at /content/drive; to attempt to forcibly remount, call drive.mount(\"/content/drive\", force_remount=True).\n",
            "ImageCAS directory contents:\n",
            "['1.label.nii.gz', '2.label.nii.gz', '1.img.nii.gz', '2.img.nii.gz', '4.label.nii.gz', '3.label.nii.gz', '5.label.nii.gz', '3.img.nii.gz', '6.label.nii.gz', '5.img.nii.gz', '7.label.nii.gz', '4.img.nii.gz', '8.label.nii.gz', '6.img.nii.gz', '9.label.nii.gz', '8.img.nii.gz', '7.img.nii.gz', '10.label.nii.gz', '9.img.nii.gz', '11.label.nii.gz', '12.label.nii.gz', '13.label.nii.gz', '10.img.nii.gz', '14.label.nii.gz', '11.img.nii.gz', '14.img.nii.gz', '15.label.nii.gz', '12.img.nii.gz', '13.img.nii.gz', '16.label.nii.gz', '17.label.nii.gz', '15.img.nii.gz', '18.label.nii.gz', '19.label.nii.gz', '16.img.nii.gz', '18.img.nii.gz', '20.label.nii.gz', '17.img.nii.gz', '19.img.nii.gz', '21.label.nii.gz', '22.label.nii.gz', '20.img.nii.gz', '23.label.nii.gz', '24.label.nii.gz', '22.img.nii.gz', '21.img.nii.gz', '25.label.nii.gz', '26.label.nii.gz', '23.img.nii.gz', '24.img.nii.gz', '27.label.nii.gz', '28.label.nii.gz', '25.img.nii.gz', '28.img.nii.gz', '29.label.nii.gz', '26.img.nii.gz', '30.label.nii.gz', '27.img.nii.gz', '30.img.nii.gz', '29.img.nii.gz', '32.label.nii.gz', '31.label.nii.gz', '33.label.nii.gz', '32.img.nii.gz', '34.label.nii.gz', '31.img.nii.gz', '35.label.nii.gz', '36.label.nii.gz', '35.img.nii.gz', '37.img.nii.gz', '33.img.nii.gz', '38.label.nii.gz', '37.label.nii.gz', '34.img.nii.gz', '36.img.nii.gz', '39.label.nii.gz', '40.label.nii.gz', '41.label.nii.gz', '38.img.nii.gz', '40.img.nii.gz', '42.label.nii.gz', '39.img.nii.gz', '43.label.nii.gz', '44.label.nii.gz', '41.img.nii.gz', '45.label.nii.gz', '42.img.nii.gz', '46.label.nii.gz', '43.img.nii.gz', '44.img.nii.gz', '45.img.nii.gz', '47.label.nii.gz', '48.label.nii.gz', '46.img.nii.gz', '49.label.nii.gz', '50.label.nii.gz', '48.img.nii.gz', '47.img.nii.gz', '50.img.nii.gz', '51.label.nii.gz', '49.img.nii.gz', '52.label.nii.gz', '53.label.nii.gz', '54.label.nii.gz', '51.img.nii.gz', '53.img.nii.gz', '55.label.nii.gz', '52.img.nii.gz', '54.img.nii.gz', '55.img.nii.gz', '56.label.nii.gz', '57.label.nii.gz', '58.label.nii.gz', '59.label.nii.gz', '58.img.nii.gz', '60.img.nii.gz', '56.img.nii.gz', '60.label.nii.gz', '57.img.nii.gz', '59.img.nii.gz', '61.label.nii.gz', '63.label.nii.gz', '62.label.nii.gz', '61.img.nii.gz', '64.label.nii.gz', '65.label.nii.gz', '62.img.nii.gz', '63.img.nii.gz', '66.label.nii.gz', '64.img.nii.gz', '65.img.nii.gz', '68.label.nii.gz', '67.label.nii.gz', '69.label.nii.gz', '66.img.nii.gz', '67.img.nii.gz', '70.label.nii.gz', '69.img.nii.gz', '68.img.nii.gz', '72.label.nii.gz', '71.label.nii.gz', '70.img.nii.gz', '73.label.nii.gz', '74.label.nii.gz', '72.img.nii.gz', '75.label.nii.gz', '73.img.nii.gz', '71.img.nii.gz', '75.img.nii.gz', '74.img.nii.gz', '76.label.nii.gz', '78.label.nii.gz', '77.label.nii.gz', '76.img.nii.gz', '79.label.nii.gz', '78.img.nii.gz', '77.img.nii.gz', '81.label.nii.gz', '80.label.nii.gz', '82.label.nii.gz', '79.img.nii.gz', '80.img.nii.gz', '83.label.nii.gz', '84.label.nii.gz', '81.img.nii.gz', '82.img.nii.gz', '85.label.nii.gz', '86.label.nii.gz', '84.img.nii.gz', '87.label.nii.gz', '83.img.nii.gz', '88.label.nii.gz', '86.img.nii.gz', '85.img.nii.gz', '89.label.nii.gz', '87.img.nii.gz', '88.img.nii.gz', '90.label.nii.gz', '91.label.nii.gz', '92.label.nii.gz', '89.img.nii.gz', '92.img.nii.gz', '91.img.nii.gz', '93.label.nii.gz', '90.img.nii.gz', '94.label.nii.gz', '93.img.nii.gz', '95.label.nii.gz', '94.img.nii.gz', '96.label.nii.gz', '97.label.nii.gz', '95.img.nii.gz', '96.img.nii.gz', '97.img.nii.gz', '98.label.nii.gz', '100.label.nii.gz', '99.label.nii.gz', '101.label.nii.gz', '98.img.nii.gz', '99.img.nii.gz', '102.label.nii.gz', '103.label.nii.gz', '100.img.nii.gz', '104.label.nii.gz', '101.img.nii.gz', '102.img.nii.gz', '105.label.nii.gz', '106.label.nii.gz', '103.img.nii.gz', '107.img.nii.gz', '105.img.nii.gz', '104.img.nii.gz', '107.label.nii.gz', '106.img.nii.gz', '109.label.nii.gz', '108.label.nii.gz', '110.label.nii.gz', '111.label.nii.gz', '108.img.nii.gz', '111.img.nii.gz', '110.img.nii.gz', '112.label.nii.gz', '113.label.nii.gz', '109.img.nii.gz', '114.label.nii.gz', '112.img.nii.gz', '115.label.nii.gz', '113.img.nii.gz', '116.label.nii.gz', '114.img.nii.gz', '115.img.nii.gz', '117.label.nii.gz', '116.img.nii.gz', '119.label.nii.gz', '118.label.nii.gz', '117.img.nii.gz', '120.label.nii.gz', '118.img.nii.gz', '121.label.nii.gz', '121.img.nii.gz', '119.img.nii.gz', '122.label.nii.gz', '123.label.nii.gz', '120.img.nii.gz', '124.label.nii.gz', '122.img.nii.gz', '125.label.nii.gz', '123.img.nii.gz', '126.label.nii.gz', '125.img.nii.gz', '127.label.nii.gz', '124.img.nii.gz', '126.img.nii.gz', '128.label.nii.gz', '129.label.nii.gz', '130.label.nii.gz', '127.img.nii.gz', '131.label.nii.gz', '129.img.nii.gz', '128.img.nii.gz', '131.img.nii.gz', '132.img.nii.gz', '132.label.nii.gz', '130.img.nii.gz', '133.label.nii.gz', '135.label.nii.gz', '134.label.nii.gz', '136.label.nii.gz', '133.img.nii.gz', '137.label.nii.gz', '134.img.nii.gz', '138.label.nii.gz', '135.img.nii.gz', '136.img.nii.gz', '139.label.nii.gz', '140.label.nii.gz', '138.img.nii.gz', '137.img.nii.gz', '141.label.nii.gz', '142.label.nii.gz', '139.img.nii.gz', '140.img.nii.gz', '143.label.nii.gz', '142.img.nii.gz', '141.img.nii.gz', '144.label.nii.gz', '145.label.nii.gz', '146.label.nii.gz', '143.img.nii.gz', '144.img.nii.gz', '147.label.nii.gz', '145.img.nii.gz', '148.label.nii.gz', '146.img.nii.gz', '149.label.nii.gz', '150.label.nii.gz', '147.img.nii.gz', '148.img.nii.gz', '151.label.nii.gz', '149.img.nii.gz', '151.img.nii.gz', '150.img.nii.gz', '152.label.nii.gz', '153.label.nii.gz', '154.label.nii.gz', '155.label.nii.gz', '152.img.nii.gz', '156.label.nii.gz', '154.img.nii.gz', '157.label.nii.gz', '155.img.nii.gz', '156.img.nii.gz', '153.img.nii.gz', '158.label.nii.gz', '159.label.nii.gz', '160.label.nii.gz', '157.img.nii.gz', '161.label.nii.gz', '160.img.nii.gz', '161.img.nii.gz', '158.img.nii.gz', '159.img.nii.gz', '162.label.nii.gz', '163.label.nii.gz', '164.label.nii.gz', '165.label.nii.gz', '162.img.nii.gz', '166.label.nii.gz', '164.img.nii.gz', '163.img.nii.gz', '167.label.nii.gz', '166.img.nii.gz', '165.img.nii.gz', '168.label.nii.gz', '169.label.nii.gz', '167.img.nii.gz', '170.label.nii.gz', '171.label.nii.gz', '168.img.nii.gz', '172.label.nii.gz', '169.img.nii.gz', '170.img.nii.gz', '171.img.nii.gz', '173.label.nii.gz', '174.label.nii.gz', '172.img.nii.gz', '175.label.nii.gz', '176.label.nii.gz', '173.img.nii.gz', '177.label.nii.gz', '175.img.nii.gz', '178.label.nii.gz', '176.img.nii.gz', '174.img.nii.gz', '177.img.nii.gz', '180.label.nii.gz', '179.label.nii.gz', '178.img.nii.gz', '181.label.nii.gz', '182.label.nii.gz', '179.img.nii.gz', '180.img.nii.gz', '182.img.nii.gz', '183.label.nii.gz', '181.img.nii.gz', '184.label.nii.gz', '185.label.nii.gz', '185.img.nii.gz', '183.img.nii.gz', '186.label.nii.gz', '184.img.nii.gz', '187.label.nii.gz', '188.label.nii.gz', '189.label.nii.gz', '186.img.nii.gz', '188.img.nii.gz', '187.img.nii.gz', '190.label.nii.gz', '189.img.nii.gz', '190.img.nii.gz', '192.label.nii.gz', '191.label.nii.gz', '192.img.nii.gz', '193.label.nii.gz', '194.label.nii.gz', '191.img.nii.gz', '195.label.nii.gz', '194.img.nii.gz', '193.img.nii.gz', '196.label.nii.gz', '197.label.nii.gz', '195.img.nii.gz', '198.label.nii.gz', '199.label.nii.gz', '196.img.nii.gz', '199.img.nii.gz', '197.img.nii.gz', '200.img.nii.gz', '200.label.nii.gz', '201.label.nii.gz', '202.label.nii.gz', '198.img.nii.gz', '203.label.nii.gz', '204.label.nii.gz', '201.img.nii.gz', '202.img.nii.gz', '205.img.nii.gz', '205.label.nii.gz', '203.img.nii.gz', '206.label.nii.gz', '204.img.nii.gz', '207.label.nii.gz', '206.img.nii.gz', '209.label.nii.gz', '208.label.nii.gz', '207.img.nii.gz', '209.img.nii.gz', '210.label.nii.gz', '208.img.nii.gz', '211.label.nii.gz', '210.img.nii.gz', '212.label.nii.gz', '213.img.nii.gz', '211.img.nii.gz', '213.label.nii.gz', '212.img.nii.gz', '215.label.nii.gz', '214.img.nii.gz', '216.label.nii.gz', '214.label.nii.gz', '217.label.nii.gz', '218.label.nii.gz', '216.img.nii.gz', '219.label.nii.gz', '217.img.nii.gz', '215.img.nii.gz', '220.label.nii.gz', '219.img.nii.gz', '221.label.nii.gz', '218.img.nii.gz', '222.label.nii.gz', '223.label.nii.gz', '221.img.nii.gz', '220.img.nii.gz', '224.label.nii.gz', '225.label.nii.gz', '223.img.nii.gz', '222.img.nii.gz', '226.label.nii.gz', '227.label.nii.gz', '225.img.nii.gz', '224.img.nii.gz', '228.label.nii.gz', '229.label.nii.gz', '228.img.nii.gz', '226.img.nii.gz', '230.label.nii.gz', '227.img.nii.gz', '229.img.nii.gz', '231.label.nii.gz', '230.img.nii.gz', '233.label.nii.gz', '232.label.nii.gz', '234.label.nii.gz', '232.img.nii.gz', '231.img.nii.gz', '233.img.nii.gz', '236.label.nii.gz', '235.img.nii.gz', '235.label.nii.gz', '237.label.nii.gz', '234.img.nii.gz', '238.label.nii.gz', '236.img.nii.gz', '239.label.nii.gz', '237.img.nii.gz', '238.img.nii.gz', '241.label.nii.gz', '240.label.nii.gz', '242.label.nii.gz', '240.img.nii.gz', '241.img.nii.gz', '239.img.nii.gz', '243.label.nii.gz', '242.img.nii.gz', '245.label.nii.gz', '244.label.nii.gz', '246.label.nii.gz', '243.img.nii.gz', '245.img.nii.gz', '247.label.nii.gz', '246.img.nii.gz', '244.img.nii.gz', '249.label.nii.gz', '248.label.nii.gz', '247.img.nii.gz', '250.label.nii.gz', '248.img.nii.gz', '251.label.nii.gz', '249.img.nii.gz', '252.label.nii.gz', '251.img.nii.gz', '253.label.nii.gz', '252.img.nii.gz', '250.img.nii.gz', '254.label.nii.gz', '255.label.nii.gz', '256.label.nii.gz', '253.img.nii.gz', '257.label.nii.gz', '255.img.nii.gz', '257.img.nii.gz', '254.img.nii.gz', '256.img.nii.gz', '258.label.nii.gz', '260.label.nii.gz', '259.label.nii.gz', '258.img.nii.gz', '261.label.nii.gz', '259.img.nii.gz', '260.img.nii.gz', '263.label.nii.gz', '262.label.nii.gz', '261.img.nii.gz', '263.img.nii.gz', '264.label.nii.gz', '264.img.nii.gz', '265.label.nii.gz', '262.img.nii.gz', '266.label.nii.gz', '267.label.nii.gz', '265.img.nii.gz', '268.img.nii.gz', '268.label.nii.gz', '266.img.nii.gz', '269.label.nii.gz', '270.label.nii.gz', '267.img.nii.gz', '271.label.nii.gz', '272.label.nii.gz', '271.img.nii.gz', '273.label.nii.gz', '269.img.nii.gz', '274.label.nii.gz', '273.img.nii.gz', '274.img.nii.gz', '275.label.nii.gz', '272.img.nii.gz', '270.img.nii.gz', '276.label.nii.gz', '277.label.nii.gz', '278.img.nii.gz', '278.label.nii.gz', '279.label.nii.gz', '276.img.nii.gz', '275.img.nii.gz', '277.img.nii.gz', '280.label.nii.gz', '279.img.nii.gz', '281.label.nii.gz', '280.img.nii.gz', '282.label.nii.gz', '281.img.nii.gz', '282.img.nii.gz', '283.label.nii.gz', '284.label.nii.gz', '285.label.nii.gz', '283.img.nii.gz', '286.label.nii.gz', '284.img.nii.gz', '287.label.nii.gz', '288.label.nii.gz', '285.img.nii.gz', '289.label.nii.gz', '286.img.nii.gz', '287.img.nii.gz', '290.label.nii.gz', '288.img.nii.gz', '291.label.nii.gz', '292.label.nii.gz', '289.img.nii.gz', '293.label.nii.gz', '292.img.nii.gz', '290.img.nii.gz', '294.label.nii.gz', '291.img.nii.gz', '295.label.nii.gz', '293.img.nii.gz', '296.label.nii.gz', '294.img.nii.gz', '297.label.nii.gz', '298.label.nii.gz', '295.img.nii.gz', '296.img.nii.gz', '299.label.nii.gz', '299.img.nii.gz', '300.label.nii.gz', '301.label.nii.gz', '298.img.nii.gz', '297.img.nii.gz', '302.label.nii.gz', '301.img.nii.gz', '303.label.nii.gz', '300.img.nii.gz', '304.label.nii.gz', '302.img.nii.gz', '305.label.nii.gz', '303.img.nii.gz', '306.label.nii.gz', '307.label.nii.gz', '304.img.nii.gz', '305.img.nii.gz', '308.label.nii.gz', '309.label.nii.gz', '307.img.nii.gz', '306.img.nii.gz', '308.img.nii.gz', '310.label.nii.gz', '311.label.nii.gz', '309.img.nii.gz', '312.label.nii.gz', '310.img.nii.gz', '313.label.nii.gz', '314.label.nii.gz', '311.img.nii.gz', '315.label.nii.gz', '312.img.nii.gz', '316.label.nii.gz', '313.img.nii.gz', '314.img.nii.gz', '316.img.nii.gz', '318.label.nii.gz', '317.label.nii.gz', '315.img.nii.gz', '317.img.nii.gz', '319.label.nii.gz', '320.label.nii.gz', '318.img.nii.gz', '321.label.nii.gz', '319.img.nii.gz', '320.img.nii.gz', '321.img.nii.gz', '322.img.nii.gz', '322.label.nii.gz', '323.label.nii.gz', '324.label.nii.gz', '325.label.nii.gz', '326.label.nii.gz', '323.img.nii.gz', '327.label.nii.gz', '327.img.nii.gz', '326.img.nii.gz', '324.img.nii.gz', '325.img.nii.gz', '328.label.nii.gz', '329.label.nii.gz', '330.label.nii.gz', '331.label.nii.gz', '329.img.nii.gz', '330.img.nii.gz', '332.label.nii.gz', '331.img.nii.gz', '328.img.nii.gz', '334.label.nii.gz', '332.img.nii.gz', '333.label.nii.gz', '335.label.nii.gz', '336.label.nii.gz', '334.img.nii.gz', '333.img.nii.gz', '336.img.nii.gz', '337.label.nii.gz', '335.img.nii.gz', '338.label.nii.gz', '339.label.nii.gz', '340.label.nii.gz', '337.img.nii.gz', '340.img.nii.gz', '338.img.nii.gz', '341.img.nii.gz', '341.label.nii.gz', '339.img.nii.gz', '342.label.nii.gz', '343.label.nii.gz', '344.label.nii.gz', '345.label.nii.gz', '345.img.nii.gz', '342.img.nii.gz', '343.img.nii.gz', '344.img.nii.gz', '346.label.nii.gz', '347.label.nii.gz', '348.label.nii.gz', '349.label.nii.gz', '348.img.nii.gz', '346.img.nii.gz', '350.label.nii.gz', '349.img.nii.gz', '347.img.nii.gz', '351.label.nii.gz', '352.label.nii.gz', '350.img.nii.gz', '351.img.nii.gz', '353.label.nii.gz', '352.img.nii.gz', '354.label.nii.gz', '353.img.nii.gz', '355.label.nii.gz', '356.label.nii.gz', '355.img.nii.gz', '357.label.nii.gz', '357.img.nii.gz', '354.img.nii.gz', '358.label.nii.gz', '356.img.nii.gz', '360.label.nii.gz', '359.label.nii.gz', '361.label.nii.gz', '358.img.nii.gz', '359.img.nii.gz', '362.img.nii.gz', '360.img.nii.gz', '362.label.nii.gz', '363.label.nii.gz', '361.img.nii.gz', '365.label.nii.gz', '364.label.nii.gz', '366.label.nii.gz', '365.img.nii.gz', '363.img.nii.gz', '367.label.nii.gz', '368.label.nii.gz', '367.img.nii.gz', '364.img.nii.gz', '369.label.nii.gz', '370.label.nii.gz', '366.img.nii.gz', '371.label.nii.gz', '368.img.nii.gz', '372.label.nii.gz', '369.img.nii.gz', '373.label.nii.gz', '372.img.nii.gz', '374.label.nii.gz', '371.img.nii.gz', '370.img.nii.gz', '375.label.nii.gz', '376.label.nii.gz', '373.img.nii.gz', '374.img.nii.gz', '375.img.nii.gz', '378.label.nii.gz', '377.label.nii.gz', '379.label.nii.gz', '376.img.nii.gz', '377.img.nii.gz', '380.label.nii.gz', '380.img.nii.gz', '379.img.nii.gz', '381.label.nii.gz', '382.label.nii.gz', '378.img.nii.gz', '383.label.nii.gz', '384.label.nii.gz', '381.img.nii.gz', '382.img.nii.gz', '385.label.nii.gz', '386.label.nii.gz', '383.img.nii.gz', '386.img.nii.gz', '387.label.nii.gz', '385.img.nii.gz', '388.label.nii.gz', '384.img.nii.gz', '387.img.nii.gz', '390.label.nii.gz', '389.label.nii.gz', '391.label.nii.gz', '388.img.nii.gz', '392.label.nii.gz', '389.img.nii.gz', '392.img.nii.gz', '390.img.nii.gz', '391.img.nii.gz', '393.label.nii.gz', '394.label.nii.gz', '395.label.nii.gz', '394.img.nii.gz', '396.img.nii.gz', '396.label.nii.gz', '395.img.nii.gz', '393.img.nii.gz', '397.label.nii.gz', '398.label.nii.gz', '397.img.nii.gz', '399.label.nii.gz', '400.label.nii.gz', '398.img.nii.gz', '400.img.nii.gz', '399.img.nii.gz']\n",
            "\n",
            "TransUNet repository contents:\n",
            "['model', 'explore_data_imbalance.py', 'README_postprocessing.md', 'test.py', '.gitignore', 'preprocess_imagecas.py', 'preprocess_penguin.py', 'train_imagecas.py', 'train.py', 'trainer.py', 'find_image_sizes.py', 'test_imagecas.py', 'val_create.py', 'LICENSE', 'prep_transunet.py', 'requirements.txt', 'README.md', 'utils.py', 'lists', 'networks', '__pycache__', 'datasets', 'postprocessing', 'data', 'postprocessing_results', 'postprocessing_analysis', 'test_imagecas_with_postprocessing.py', 'run_postprocessing_analysis.py']\n"
          ]
        }
      ],
      "source": [
        "# Mount Google Drive\n",
        "from google.colab import drive\n",
        "drive.mount('/content/drive')\n",
        "\n",
        "# Verify your data and repository paths\n",
        "import os\n",
        "print(\"ImageCAS directory contents:\")\n",
        "print(os.listdir('/content/drive/MyDrive/ImageCAS/'))\n",
        "print(\"\\nTransUNet repository contents:\")\n",
        "print(os.listdir('/content/drive/MyDrive/TransUNet-UNet3D-main'))"
      ]
    },
    {
      "cell_type": "code",
      "execution_count": 3,
      "metadata": {
        "colab": {
          "base_uri": "https://localhost:8080/"
        },
        "id": "CH4-f8UJzu2q",
        "outputId": "f0604579-a2a3-4189-a351-3c44dd829d77"
      },
      "outputs": [
        {
          "output_type": "stream",
          "name": "stdout",
          "text": [
            "Requirement already satisfied: torch in /usr/local/lib/python3.11/dist-packages (2.6.0+cu124)\n",
            "Requirement already satisfied: torchvision in /usr/local/lib/python3.11/dist-packages (0.21.0+cu124)\n",
            "Requirement already satisfied: numpy in /usr/local/lib/python3.11/dist-packages (2.0.2)\n",
            "Requirement already satisfied: tqdm in /usr/local/lib/python3.11/dist-packages (4.67.1)\n",
            "Requirement already satisfied: tensorboard in /usr/local/lib/python3.11/dist-packages (2.18.0)\n",
            "Requirement already satisfied: tensorboardX in /usr/local/lib/python3.11/dist-packages (2.6.4)\n",
            "Requirement already satisfied: ml-collections in /usr/local/lib/python3.11/dist-packages (1.1.0)\n",
            "Requirement already satisfied: medpy in /usr/local/lib/python3.11/dist-packages (0.5.2)\n",
            "Requirement already satisfied: SimpleITK in /usr/local/lib/python3.11/dist-packages (2.5.2)\n",
            "Requirement already satisfied: scipy in /usr/local/lib/python3.11/dist-packages (1.15.3)\n",
            "Requirement already satisfied: h5py in /usr/local/lib/python3.11/dist-packages (3.14.0)\n",
            "Requirement already satisfied: opencv-python in /usr/local/lib/python3.11/dist-packages (4.11.0.86)\n",
            "Requirement already satisfied: filelock in /usr/local/lib/python3.11/dist-packages (from torch) (3.18.0)\n",
            "Requirement already satisfied: typing-extensions>=4.10.0 in /usr/local/lib/python3.11/dist-packages (from torch) (4.14.1)\n",
            "Requirement already satisfied: networkx in /usr/local/lib/python3.11/dist-packages (from torch) (3.5)\n",
            "Requirement already satisfied: jinja2 in /usr/local/lib/python3.11/dist-packages (from torch) (3.1.6)\n",
            "Requirement already satisfied: fsspec in /usr/local/lib/python3.11/dist-packages (from torch) (2025.3.2)\n",
            "Requirement already satisfied: nvidia-cuda-nvrtc-cu12==12.4.127 in /usr/local/lib/python3.11/dist-packages (from torch) (12.4.127)\n",
            "Requirement already satisfied: nvidia-cuda-runtime-cu12==12.4.127 in /usr/local/lib/python3.11/dist-packages (from torch) (12.4.127)\n",
            "Requirement already satisfied: nvidia-cuda-cupti-cu12==12.4.127 in /usr/local/lib/python3.11/dist-packages (from torch) (12.4.127)\n",
            "Requirement already satisfied: nvidia-cudnn-cu12==9.1.0.70 in /usr/local/lib/python3.11/dist-packages (from torch) (9.1.0.70)\n",
            "Requirement already satisfied: nvidia-cublas-cu12==12.4.5.8 in /usr/local/lib/python3.11/dist-packages (from torch) (12.4.5.8)\n",
            "Requirement already satisfied: nvidia-cufft-cu12==11.2.1.3 in /usr/local/lib/python3.11/dist-packages (from torch) (11.2.1.3)\n",
            "Requirement already satisfied: nvidia-curand-cu12==10.3.5.147 in /usr/local/lib/python3.11/dist-packages (from torch) (10.3.5.147)\n",
            "Requirement already satisfied: nvidia-cusolver-cu12==11.6.1.9 in /usr/local/lib/python3.11/dist-packages (from torch) (11.6.1.9)\n",
            "Requirement already satisfied: nvidia-cusparse-cu12==12.3.1.170 in /usr/local/lib/python3.11/dist-packages (from torch) (12.3.1.170)\n",
            "Requirement already satisfied: nvidia-cusparselt-cu12==0.6.2 in /usr/local/lib/python3.11/dist-packages (from torch) (0.6.2)\n",
            "Requirement already satisfied: nvidia-nccl-cu12==2.21.5 in /usr/local/lib/python3.11/dist-packages (from torch) (2.21.5)\n",
            "Requirement already satisfied: nvidia-nvtx-cu12==12.4.127 in /usr/local/lib/python3.11/dist-packages (from torch) (12.4.127)\n",
            "Requirement already satisfied: nvidia-nvjitlink-cu12==12.4.127 in /usr/local/lib/python3.11/dist-packages (from torch) (12.4.127)\n",
            "Requirement already satisfied: triton==3.2.0 in /usr/local/lib/python3.11/dist-packages (from torch) (3.2.0)\n",
            "Requirement already satisfied: sympy==1.13.1 in /usr/local/lib/python3.11/dist-packages (from torch) (1.13.1)\n",
            "Requirement already satisfied: mpmath<1.4,>=1.1.0 in /usr/local/lib/python3.11/dist-packages (from sympy==1.13.1->torch) (1.3.0)\n",
            "Requirement already satisfied: pillow!=8.3.*,>=5.3.0 in /usr/local/lib/python3.11/dist-packages (from torchvision) (11.2.1)\n",
            "Requirement already satisfied: absl-py>=0.4 in /usr/local/lib/python3.11/dist-packages (from tensorboard) (1.4.0)\n",
            "Requirement already satisfied: grpcio>=1.48.2 in /usr/local/lib/python3.11/dist-packages (from tensorboard) (1.73.1)\n",
            "Requirement already satisfied: markdown>=2.6.8 in /usr/local/lib/python3.11/dist-packages (from tensorboard) (3.8.2)\n",
            "Requirement already satisfied: packaging in /usr/local/lib/python3.11/dist-packages (from tensorboard) (25.0)\n",
            "Requirement already satisfied: protobuf!=4.24.0,>=3.19.6 in /usr/local/lib/python3.11/dist-packages (from tensorboard) (5.29.5)\n",
            "Requirement already satisfied: setuptools>=41.0.0 in /usr/local/lib/python3.11/dist-packages (from tensorboard) (75.2.0)\n",
            "Requirement already satisfied: six>1.9 in /usr/local/lib/python3.11/dist-packages (from tensorboard) (1.17.0)\n",
            "Requirement already satisfied: tensorboard-data-server<0.8.0,>=0.7.0 in /usr/local/lib/python3.11/dist-packages (from tensorboard) (0.7.2)\n",
            "Requirement already satisfied: werkzeug>=1.0.1 in /usr/local/lib/python3.11/dist-packages (from tensorboard) (3.1.3)\n",
            "Requirement already satisfied: PyYAML in /usr/local/lib/python3.11/dist-packages (from ml-collections) (6.0.2)\n",
            "Requirement already satisfied: MarkupSafe>=2.1.1 in /usr/local/lib/python3.11/dist-packages (from werkzeug>=1.0.1->tensorboard) (3.0.2)\n",
            "Requirement already satisfied: nibabel in /usr/local/lib/python3.11/dist-packages (5.3.2)\n",
            "Requirement already satisfied: matplotlib in /usr/local/lib/python3.11/dist-packages (3.10.0)\n",
            "Requirement already satisfied: importlib-resources>=5.12 in /usr/local/lib/python3.11/dist-packages (from nibabel) (6.5.2)\n",
            "Requirement already satisfied: numpy>=1.22 in /usr/local/lib/python3.11/dist-packages (from nibabel) (2.0.2)\n",
            "Requirement already satisfied: packaging>=20 in /usr/local/lib/python3.11/dist-packages (from nibabel) (25.0)\n",
            "Requirement already satisfied: typing-extensions>=4.6 in /usr/local/lib/python3.11/dist-packages (from nibabel) (4.14.1)\n",
            "Requirement already satisfied: contourpy>=1.0.1 in /usr/local/lib/python3.11/dist-packages (from matplotlib) (1.3.2)\n",
            "Requirement already satisfied: cycler>=0.10 in /usr/local/lib/python3.11/dist-packages (from matplotlib) (0.12.1)\n",
            "Requirement already satisfied: fonttools>=4.22.0 in /usr/local/lib/python3.11/dist-packages (from matplotlib) (4.59.0)\n",
            "Requirement already satisfied: kiwisolver>=1.3.1 in /usr/local/lib/python3.11/dist-packages (from matplotlib) (1.4.8)\n",
            "Requirement already satisfied: pillow>=8 in /usr/local/lib/python3.11/dist-packages (from matplotlib) (11.2.1)\n",
            "Requirement already satisfied: pyparsing>=2.3.1 in /usr/local/lib/python3.11/dist-packages (from matplotlib) (3.2.3)\n",
            "Requirement already satisfied: python-dateutil>=2.7 in /usr/local/lib/python3.11/dist-packages (from matplotlib) (2.9.0.post0)\n",
            "Requirement already satisfied: six>=1.5 in /usr/local/lib/python3.11/dist-packages (from python-dateutil>=2.7->matplotlib) (1.17.0)\n"
          ]
        }
      ],
      "source": [
        "# Change to the repository directory\n",
        "import os\n",
        "os.chdir('/content/drive/MyDrive/TransUNet-UNet3D-main')\n",
        "\n",
        "# Install required packages\n",
        "!pip install torch torchvision numpy tqdm tensorboard tensorboardX ml-collections medpy SimpleITK scipy h5py opencv-python\n",
        "\n",
        "# Additional packages that might be needed\n",
        "!pip install nibabel matplotlib"
      ]
    },
    {
      "cell_type": "code",
      "execution_count": null,
      "metadata": {
        "id": "KiaRvnsO7a3p"
      },
      "outputs": [],
      "source": [
        "# Create necessary directories\n",
        "import os\n",
        "from pathlib import Path\n",
        "\n",
        "# Create model directory for pretrained weights\n",
        "model_dir = Path('/content/drive/MyDrive/TransUNet-UNet3D-main/model/vit_checkpoint/imagenet21k')\n",
        "model_dir.mkdir(parents=True, exist_ok=True)\n",
        "\n",
        "# Create data directory structure\n",
        "data_dir = Path('/content/drive/MyDrive/TransUNet-UNet3D-main/data/ImageCas')\n",
        "data_dir.mkdir(parents=True, exist_ok=True)\n",
        "\n",
        "# Create subdirectories\n",
        "(data_dir / 'train').mkdir(exist_ok=True)\n",
        "(data_dir / 'label').mkdir(exist_ok=True)\n",
        "(data_dir / 'train_processed_224').mkdir(exist_ok=True)\n",
        "(data_dir / 'val_processed_224').mkdir(exist_ok=True)\n",
        "\n",
        "# Create lists directory\n",
        "lists_dir = Path('/content/drive/MyDrive/TransUNet-UNet3D-main/lists/lists_ImageCas')\n",
        "lists_dir.mkdir(parents=True, exist_ok=True)\n",
        "\n",
        "print(\"Directory structure created successfully!\")"
      ]
    },
    {
      "cell_type": "code",
      "execution_count": null,
      "metadata": {
        "id": "QFJvuJW17rAS"
      },
      "outputs": [],
      "source": [
        "import requests\n",
        "import os\n",
        "\n",
        "model_path = '/content/drive/MyDrive/TransUNet-UNet3D-main/model/vit_checkpoint/imagenet21k'\n",
        "model_url = 'https://storage.googleapis.com/vit_models/imagenet21k/R50+ViT-B_16.npz'\n",
        "model_file = f'{model_path}/R50+ViT-B_16.npz'\n",
        "\n",
        "if not os.path.exists(model_file):\n",
        "    print(\"Downloading pre-trained model...\")\n",
        "    response = requests.get(model_url, stream=True)\n",
        "    response.raise_for_status()\n",
        "\n",
        "    with open(model_file, 'wb') as f:\n",
        "        for chunk in response.iter_content(chunk_size=8192):\n",
        "            f.write(chunk)\n",
        "\n",
        "    print(\"Model downloaded successfully!\")"
      ]
    },
    {
      "cell_type": "code",
      "execution_count": null,
      "metadata": {
        "id": "KpyPaJly98jt"
      },
      "outputs": [],
      "source": [
        "drive.mount('/content/drive')\n"
      ]
    },
    {
      "cell_type": "code",
      "execution_count": null,
      "metadata": {
        "id": "cgyy2qtV9l7h"
      },
      "outputs": [],
      "source": []
    },
    {
      "cell_type": "code",
      "execution_count": 7,
      "metadata": {
        "colab": {
          "base_uri": "https://localhost:8080/"
        },
        "id": "JUVV6TVK76vj",
        "outputId": "15e0b6f7-b1b3-427e-c203-0a8a8d13b358"
      },
      "outputs": [
        {
          "output_type": "stream",
          "name": "stdout",
          "text": [
            "Copying data from Google Drive to local storage...\n",
            "Found 400 training files to copy\n",
            "Copied 50/400 training files\n",
            "Copied 100/400 training files\n",
            "Copied 150/400 training files\n",
            "Copied 200/400 training files\n",
            "Copied 250/400 training files\n",
            "Copied 300/400 training files\n",
            "Copied 350/400 training files\n",
            "Copied 400/400 training files\n",
            "Found 400 label files to copy\n",
            "Copied 50/400 label files\n",
            "Copied 100/400 label files\n",
            "Copied 150/400 label files\n",
            "Copied 200/400 label files\n",
            "Copied 250/400 label files\n",
            "Copied 300/400 label files\n",
            "Copied 350/400 label files\n",
            "Copied 400/400 label files\n",
            "Data copying completed!\n"
          ]
        }
      ],
      "source": [
        "import shutil\n",
        "import os\n",
        "from pathlib import Path\n",
        "\n",
        "# Create local directories\n",
        "os.makedirs('/content/local_data/train', exist_ok=True)\n",
        "os.makedirs('/content/local_data/label', exist_ok=True)\n",
        "os.makedirs('/content/local_data/processed', exist_ok=True)\n",
        "\n",
        "print(\"Copying data from Google Drive to local storage...\")\n",
        "\n",
        "# Copy training images\n",
        "src_train = '/content/drive/MyDrive/TransUNet-UNet3D-main/data/ImageCas/train'\n",
        "dst_train = '/content/local_data/train'\n",
        "\n",
        "train_files = [f for f in os.listdir(src_train) if f.endswith('.nii.gz')]\n",
        "print(f\"Found {len(train_files)} training files to copy\")\n",
        "\n",
        "for i, file in enumerate(train_files):\n",
        "    try:\n",
        "        shutil.copy2(f'{src_train}/{file}', f'{dst_train}/{file}')\n",
        "        if (i + 1) % 50 == 0:  # Print progress every 50 files\n",
        "            print(f\"Copied {i + 1}/{len(train_files)} training files\")\n",
        "    except Exception as e:\n",
        "        print(f\"Error copying {file}: {e}\")\n",
        "\n",
        "# Copy label files\n",
        "src_label = '/content/drive/MyDrive/TransUNet-UNet3D-main/data/ImageCas/label'\n",
        "dst_label = '/content/local_data/label'\n",
        "\n",
        "label_files = [f for f in os.listdir(src_label) if f.endswith('.nii.gz')]\n",
        "print(f\"Found {len(label_files)} label files to copy\")\n",
        "\n",
        "for i, file in enumerate(label_files):\n",
        "    try:\n",
        "        shutil.copy2(f'{src_label}/{file}', f'{dst_label}/{file}')\n",
        "        if (i + 1) % 50 == 0:  # Print progress every 50 files\n",
        "            print(f\"Copied {i + 1}/{len(label_files)} label files\")\n",
        "    except Exception as e:\n",
        "        print(f\"Error copying {file}: {e}\")\n",
        "\n",
        "print(\"Data copying completed!\")"
      ]
    },
    {
      "cell_type": "code",
      "execution_count": 8,
      "metadata": {
        "colab": {
          "base_uri": "https://localhost:8080/"
        },
        "id": "UaMv3b57IIrb",
        "outputId": "91509da2-789c-464e-f747-03253571d2ea"
      },
      "outputs": [
        {
          "output_type": "stream",
          "name": "stdout",
          "text": [
            "/content/local_data/train\n",
            "/content/local_data/lists\n",
            "/content/local_data/label\n",
            "/content/local_data/processed\n",
            "/content/local_data/train_processed_224\n",
            "/content/local_data/val_processed_224\n"
          ]
        }
      ],
      "source": [
        "from pathlib import Path\n",
        "\n",
        "ROOT_PATH = Path(\"/content/local_data\")\n",
        "\n",
        "# List all files and folders in the directory\n",
        "for item in ROOT_PATH.iterdir():\n",
        "    print(item)"
      ]
    },
    {
      "cell_type": "code",
      "source": [
        "# Run preprocessing and let it skip the corrupted files\n",
        "!cd /content/drive/MyDrive/TransUNet-UNet3D-main\n",
        "\n",
        "!python preprocess_imagecas.py \\\n",
        "    --image-dir /content/local_data/train \\\n",
        "    --label-dir /content/local_data/label \\\n",
        "    --out-train /content/local_data/train_processed_224 \\\n",
        "    --out-test /content/local_data/val_processed_224 \\\n",
        "    --lists-dir /content/local_data/lists \\\n",
        "    --split 0.2 \\\n",
        "    --seed 42"
      ],
      "metadata": {
        "id": "WiDfQoQi8yGr"
      },
      "execution_count": null,
      "outputs": []
    },
    {
      "cell_type": "code",
      "source": [
        "# Move the corrupted file out of the way\n",
        "!mv /content/local_data/train/3.img.nii.gz /content/local_data/train/3.img.nii.gz.corrupted\n",
        "!mv /content/local_data/label/3.label.nii.gz /content/local_data/label/3.label.nii.gz.corrupted\n",
        "\n",
        "# Then rerun preprocessing\n",
        "!python preprocess_imagecas.py \\\n",
        "    --image-dir /content/local_data/train \\\n",
        "    --label-dir /content/local_data/label \\\n",
        "    --out-train /content/local_data/train_processed_224 \\\n",
        "    --out-test /content/local_data/val_processed_224 \\\n",
        "    --lists-dir /content/local_data/lists \\\n",
        "    --split 0.2 \\\n",
        "    --seed 42"
      ],
      "metadata": {
        "colab": {
          "base_uri": "https://localhost:8080/"
        },
        "id": "2yNERxCQGco4",
        "outputId": "d1f03136-eabb-47fc-9ce4-adb9adfefdc9"
      },
      "execution_count": 9,
      "outputs": [
        {
          "output_type": "stream",
          "name": "stdout",
          "text": [
            "📦 399 volumes → train 320, val 79\n",
            "✅ Done – slices in /content/local_data/train_processed_224 and /content/local_data/val_processed_224\n"
          ]
        }
      ]
    },
    {
      "cell_type": "code",
      "source": [
        "from google.colab import drive\n",
        "drive.mount('/content/drive')"
      ],
      "metadata": {
        "colab": {
          "base_uri": "https://localhost:8080/"
        },
        "id": "ibelSr8zJizQ",
        "outputId": "c99cbe5b-598d-4fa4-8117-e7c7a91c3f84"
      },
      "execution_count": 10,
      "outputs": [
        {
          "output_type": "stream",
          "name": "stdout",
          "text": [
            "Drive already mounted at /content/drive; to attempt to forcibly remount, call drive.mount(\"/content/drive\", force_remount=True).\n"
          ]
        }
      ]
    },
    {
      "cell_type": "code",
      "execution_count": null,
      "metadata": {
        "id": "3K4bSchDIM-J"
      },
      "outputs": [],
      "source": [
        "# Run preprocessing using local data paths\n",
        "os.chdir('/content/drive/MyDrive/TransUNet-UNet3D-main')\n",
        "\n",
        "# Create output directories in local storage first\n",
        "os.makedirs('/content/local_data/train_processed_224', exist_ok=True)\n",
        "os.makedirs('/content/local_data/val_processed_224', exist_ok=True)\n",
        "os.makedirs('/content/local_data/lists', exist_ok=True)\n",
        "\n",
        "# Run preprocessing with local paths\n",
        "!python preprocess_imagecas.py \\\n",
        "    --image-dir /content/local_data/train \\\n",
        "    --label-dir /content/local_data/label \\\n",
        "    --out-train /content/local_data/train_processed_224 \\\n",
        "    --out-test /content/local_data/val_processed_224 \\\n",
        "    --lists-dir /content/local_data/lists \\\n",
        "    --split 0.2 \\\n",
        "    --seed 42"
      ]
    },
    {
      "cell_type": "code",
      "execution_count": 11,
      "metadata": {
        "colab": {
          "base_uri": "https://localhost:8080/"
        },
        "id": "U3IJoOswZ5vm",
        "outputId": "d89ff1e2-6dbe-4ba5-8d08-e60ae7c9ddb0"
      },
      "outputs": [
        {
          "output_type": "stream",
          "name": "stdout",
          "text": [
            "Training slices: 85188\n",
            "Validation slices: 20165\n",
            "List files: ['train.txt', 'all.lst', 'test_vol.txt']\n",
            "Sample data keys: ['image', 'label']\n",
            "Image shape: (224, 224)\n",
            "Label shape: (224, 224)\n"
          ]
        }
      ],
      "source": [
        "# Check if data preprocessing was successful\n",
        "train_dir = '/content/local_data/train_processed_224'\n",
        "val_dir = '/content/local_data/val_processed_224'\n",
        "lists_dir = '/content/local_data/lists'\n",
        "\n",
        "print(f\"Training slices: {len(os.listdir(train_dir))}\")\n",
        "print(f\"Validation slices: {len(os.listdir(val_dir))}\")\n",
        "print(f\"List files: {os.listdir(lists_dir)}\")\n",
        "\n",
        "# Check a sample file\n",
        "import numpy as np\n",
        "sample_files = [f for f in os.listdir(train_dir) if f.endswith('.npz')]\n",
        "if sample_files:\n",
        "    sample_data = np.load(f'{train_dir}/{sample_files[0]}')\n",
        "    print(f\"Sample data keys: {list(sample_data.keys())}\")\n",
        "    print(f\"Image shape: {sample_data['image'].shape}\")\n",
        "    print(f\"Label shape: {sample_data['label'].shape}\")"
      ]
    },
    {
      "cell_type": "code",
      "execution_count": null,
      "metadata": {
        "id": "NYtsacdjamfa"
      },
      "outputs": [],
      "source": [
        "!python test_imagecas_with_postprocessing.py random"
      ]
    },
    {
      "cell_type": "code",
      "execution_count": null,
      "metadata": {
        "id": "WAUOQX2aZ9jX"
      },
      "outputs": [],
      "source": [
        "!python run_postprocessing_analysis.py --volume-filter \"354.img.nii\""
      ]
    }
  ],
  "metadata": {
    "accelerator": "GPU",
    "colab": {
      "gpuType": "T4",
      "machine_shape": "hm",
      "provenance": [],
      "authorship_tag": "ABX9TyNEG3E1jLUBLlIK9E57hbS5",
      "include_colab_link": true
    },
    "kernelspec": {
      "display_name": "Python 3",
      "name": "python3"
    },
    "language_info": {
      "name": "python"
    }
  },
  "nbformat": 4,
  "nbformat_minor": 0
}